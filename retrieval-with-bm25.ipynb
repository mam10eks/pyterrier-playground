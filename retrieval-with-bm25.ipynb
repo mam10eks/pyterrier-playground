{
 "cells": [
  {
   "cell_type": "markdown",
   "metadata": {},
   "source": [
    "# Retrieval with BM25\n",
    "\n",
    "I used this tutorial: https://github.com/terrier-org/pyterrier/blob/master/examples/notebooks/retrieval_and_evaluation.ipynb"
   ]
  },
  {
   "cell_type": "code",
   "execution_count": 1,
   "metadata": {},
   "outputs": [],
   "source": [
    "import pyterrier as pt\n",
    "if not pt.started():\n",
    "  pt.init()"
   ]
  },
  {
   "cell_type": "code",
   "execution_count": 2,
   "metadata": {},
   "outputs": [],
   "source": [
    "vaswani_dataset = pt.datasets.get_dataset(\"vaswani\")\n",
    "\n",
    "index = pt.IndexFactory.of(vaswani_dataset.get_index())\n",
    "topics = vaswani_dataset.get_topics()\n",
    "qrels = vaswani_dataset.get_qrels()\n",
    "\n",
    "retr = pt.BatchRetrieve(index, controls = {\"wmodel\": \"BM25\"})\n",
    "\n",
    "retr.setControl(\"wmodel\", \"BM25\")\n",
    "retr.setControls({\"wmodel\": \"BM25\"})\n",
    "\n",
    "res=retr.transform(topics)"
   ]
  },
  {
   "cell_type": "code",
   "execution_count": 3,
   "metadata": {},
   "outputs": [
    {
     "data": {
      "text/plain": [
       "{'map': 0.296517205483994, 'ndcg': 0.6211967297435284}"
      ]
     },
     "execution_count": 3,
     "metadata": {},
     "output_type": "execute_result"
    }
   ],
   "source": [
    "eval = pt.Utils.evaluate(res,qrels)\n",
    "eval"
   ]
  }
 ],
 "metadata": {
  "kernelspec": {
   "display_name": "Python 3",
   "language": "python",
   "name": "python3"
  },
  "language_info": {
   "codemirror_mode": {
    "name": "ipython",
    "version": 3
   },
   "file_extension": ".py",
   "mimetype": "text/x-python",
   "name": "python",
   "nbconvert_exporter": "python",
   "pygments_lexer": "ipython3",
   "version": "3.7.6"
  }
 },
 "nbformat": 4,
 "nbformat_minor": 4
}
